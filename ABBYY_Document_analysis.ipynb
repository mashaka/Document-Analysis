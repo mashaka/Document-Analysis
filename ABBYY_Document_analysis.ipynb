{
 "cells": [
  {
   "cell_type": "code",
   "execution_count": 1,
   "metadata": {
    "collapsed": true
   },
   "outputs": [],
   "source": [
    "import pandas as pd\n",
    "import os\n",
    "import xml.etree.ElementTree as ET"
   ]
  },
  {
   "cell_type": "code",
   "execution_count": 2,
   "metadata": {
    "collapsed": false
   },
   "outputs": [],
   "source": [
    "WORKING_DIR = '.' # os.path.dirname(__file__)\n",
    "\n",
    "NON_TEXT_DIR = os.path.join(WORKING_DIR, 'Nontext')\n",
    "TEXT_DIR = os.path.join(WORKING_DIR, 'Text')\n",
    "\n",
    "TEXT_CLASS = 0\n",
    "NON_TEXT_CLASS = 1"
   ]
  },
  {
   "cell_type": "code",
   "execution_count": 3,
   "metadata": {
    "collapsed": true
   },
   "outputs": [],
   "source": [
    "def process_xml(filename, class_value):\n",
    "    tree = ET.parse(filename)\n",
    "    xml_dicts = []\n",
    "    for i, child in enumerate(tree.iter('WordFragment')):\n",
    "        xml_dicts.append(dict())\n",
    "        xml_dicts[-1]['class_value'] = class_value\n",
    "        for key, value in child[0].items():\n",
    "            xml_dicts[-1][key] = value\n",
    "        for key, value in child.attrib.items():\n",
    "            xml_dicts[-1][key] = value\n",
    "    return pd.DataFrame(xml_dicts)"
   ]
  },
  {
   "cell_type": "code",
   "execution_count": 4,
   "metadata": {
    "collapsed": false
   },
   "outputs": [],
   "source": [
    "def read_xml_folder(directory, class_value):\n",
    "    frames = []\n",
    "    for filename in os.listdir(directory):\n",
    "        if filename.endswith('.xml'):\n",
    "            full_name = os.path.join(directory, filename)\n",
    "            frames.append(process_xml(full_name, class_value))\n",
    "    return pd.concat(frames)"
   ]
  },
  {
   "cell_type": "code",
   "execution_count": 5,
   "metadata": {
    "collapsed": false
   },
   "outputs": [],
   "source": [
    "NUMERIC_COLUMNS = ['BlackCount', 'HorzStrokesCount', 'MaxHorzStrokeLength', \n",
    "                   'PunctuationQuality', 'TextQuality', 'VertStrokesCount', 'WhiteHolesCount',\n",
    "                  'Bottom', 'Right', 'Top', 'Left']\n",
    "\n",
    "DROP_COLUMNS = ['Bottom', 'Right', 'Top', 'Left', 'Area', 'Height', 'Width']\n",
    "\n",
    "NEED_NORMALISATION_COLUMNS = ['BlackCount', 'HorzStrokesCount', \n",
    "                   'PunctuationQuality', 'VertStrokesCount', 'WhiteHolesCount']\n",
    "\n",
    "def preprocess_fetures(df_raw):\n",
    "    df_raw[NUMERIC_COLUMNS] = df_raw[NUMERIC_COLUMNS].apply(pd.to_numeric)\n",
    "    bool_dict = {'false': 0, 'true': 1}\n",
    "    df_raw['IsInverted'].replace(bool_dict, inplace=True)\n",
    "    df_raw['IsVertical'].replace(bool_dict, inplace=True)\n",
    "    df_raw['Height'] = df_raw['Bottom'] - df_raw['Top']\n",
    "    df_raw['Width'] = df_raw['Right'] - df_raw['Left']\n",
    "    df_raw['Area'] = df_raw['Width'] * df_raw['Height']\n",
    "    df_raw['custom_1'] = (df_raw['Area'] - df_raw['BlackCount']) / ((df_raw['HorzStrokesCount'] + \\\n",
    "                            df_raw['Height'] ) * df_raw['Height'] )\n",
    "    df_raw['custom_2'] = (df_raw['HorzStrokesCount'] + df_raw['VertStrokesCount']) / \\\n",
    "        df[['Width', 'Height']].max(axis=1)\n",
    "    df_raw['custom_3'] = df_raw['BlackCount'] / (df_raw['HorzStrokesCount'] + df_raw['VertStrokesCount'])\n",
    "    df_raw['MaxHorzStrokeLength'] /= df_raw['Width']\n",
    "    for column in NEED_NORMALISATION_COLUMNS:\n",
    "        df_raw[column] /= df_raw['Area']\n",
    "    df_raw.drop(DROP_COLUMNS, axis=1, inplace=True)"
   ]
  },
  {
   "cell_type": "code",
   "execution_count": 6,
   "metadata": {
    "collapsed": false
   },
   "outputs": [],
   "source": [
    "df_non_text = read_xml_folder(NON_TEXT_DIR, NON_TEXT_CLASS)\n",
    "df_text = read_xml_folder(TEXT_DIR, TEXT_CLASS)\n",
    "\n",
    "df = pd.concat([df_non_text, df_text])\n",
    "preprocess_fetures(df)"
   ]
  },
  {
   "cell_type": "code",
   "execution_count": 7,
   "metadata": {
    "collapsed": false
   },
   "outputs": [
    {
     "data": {
      "text/html": [
       "<div>\n",
       "<table border=\"1\" class=\"dataframe\">\n",
       "  <thead>\n",
       "    <tr style=\"text-align: right;\">\n",
       "      <th></th>\n",
       "      <th>BlackCount</th>\n",
       "      <th>HorzStrokesCount</th>\n",
       "      <th>IsInverted</th>\n",
       "      <th>IsVertical</th>\n",
       "      <th>MaxHorzStrokeLength</th>\n",
       "      <th>PunctuationQuality</th>\n",
       "      <th>TextQuality</th>\n",
       "      <th>VertStrokesCount</th>\n",
       "      <th>WhiteHolesCount</th>\n",
       "      <th>class_value</th>\n",
       "      <th>custom_1</th>\n",
       "      <th>custom_2</th>\n",
       "      <th>custom_3</th>\n",
       "    </tr>\n",
       "  </thead>\n",
       "  <tbody>\n",
       "    <tr>\n",
       "      <th>0</th>\n",
       "      <td>0.521674</td>\n",
       "      <td>0.015149</td>\n",
       "      <td>0</td>\n",
       "      <td>0</td>\n",
       "      <td>0.779661</td>\n",
       "      <td>0.000000</td>\n",
       "      <td>0.333008</td>\n",
       "      <td>0.015374</td>\n",
       "      <td>0.000075</td>\n",
       "      <td>1</td>\n",
       "      <td>0.179182</td>\n",
       "      <td>3.449153</td>\n",
       "      <td>17.090909</td>\n",
       "    </tr>\n",
       "    <tr>\n",
       "      <th>1</th>\n",
       "      <td>0.510452</td>\n",
       "      <td>0.012926</td>\n",
       "      <td>0</td>\n",
       "      <td>0</td>\n",
       "      <td>0.374016</td>\n",
       "      <td>0.000000</td>\n",
       "      <td>0.000000</td>\n",
       "      <td>0.012125</td>\n",
       "      <td>0.000070</td>\n",
       "      <td>1</td>\n",
       "      <td>0.256911</td>\n",
       "      <td>2.830709</td>\n",
       "      <td>20.376912</td>\n",
       "    </tr>\n",
       "    <tr>\n",
       "      <th>2</th>\n",
       "      <td>0.426407</td>\n",
       "      <td>0.045455</td>\n",
       "      <td>0</td>\n",
       "      <td>0</td>\n",
       "      <td>0.681818</td>\n",
       "      <td>0.002165</td>\n",
       "      <td>0.500000</td>\n",
       "      <td>0.047619</td>\n",
       "      <td>0.000000</td>\n",
       "      <td>1</td>\n",
       "      <td>0.300454</td>\n",
       "      <td>1.954545</td>\n",
       "      <td>4.581395</td>\n",
       "    </tr>\n",
       "    <tr>\n",
       "      <th>3</th>\n",
       "      <td>0.434783</td>\n",
       "      <td>0.043478</td>\n",
       "      <td>0</td>\n",
       "      <td>0</td>\n",
       "      <td>0.695652</td>\n",
       "      <td>0.001976</td>\n",
       "      <td>0.500000</td>\n",
       "      <td>0.045455</td>\n",
       "      <td>0.000000</td>\n",
       "      <td>1</td>\n",
       "      <td>0.295455</td>\n",
       "      <td>1.956522</td>\n",
       "      <td>4.888889</td>\n",
       "    </tr>\n",
       "    <tr>\n",
       "      <th>4</th>\n",
       "      <td>0.551084</td>\n",
       "      <td>0.052632</td>\n",
       "      <td>0</td>\n",
       "      <td>0</td>\n",
       "      <td>0.394737</td>\n",
       "      <td>0.000000</td>\n",
       "      <td>0.333008</td>\n",
       "      <td>0.047988</td>\n",
       "      <td>0.000000</td>\n",
       "      <td>1</td>\n",
       "      <td>0.334487</td>\n",
       "      <td>1.710526</td>\n",
       "      <td>5.476923</td>\n",
       "    </tr>\n",
       "  </tbody>\n",
       "</table>\n",
       "</div>"
      ],
      "text/plain": [
       "   BlackCount  HorzStrokesCount  IsInverted  IsVertical  MaxHorzStrokeLength  \\\n",
       "0    0.521674          0.015149           0           0             0.779661   \n",
       "1    0.510452          0.012926           0           0             0.374016   \n",
       "2    0.426407          0.045455           0           0             0.681818   \n",
       "3    0.434783          0.043478           0           0             0.695652   \n",
       "4    0.551084          0.052632           0           0             0.394737   \n",
       "\n",
       "   PunctuationQuality  TextQuality  VertStrokesCount  WhiteHolesCount  \\\n",
       "0            0.000000     0.333008          0.015374         0.000075   \n",
       "1            0.000000     0.000000          0.012125         0.000070   \n",
       "2            0.002165     0.500000          0.047619         0.000000   \n",
       "3            0.001976     0.500000          0.045455         0.000000   \n",
       "4            0.000000     0.333008          0.047988         0.000000   \n",
       "\n",
       "   class_value  custom_1  custom_2   custom_3  \n",
       "0            1  0.179182  3.449153  17.090909  \n",
       "1            1  0.256911  2.830709  20.376912  \n",
       "2            1  0.300454  1.954545   4.581395  \n",
       "3            1  0.295455  1.956522   4.888889  \n",
       "4            1  0.334487  1.710526   5.476923  "
      ]
     },
     "execution_count": 7,
     "metadata": {},
     "output_type": "execute_result"
    }
   ],
   "source": [
    "df.head()"
   ]
  },
  {
   "cell_type": "code",
   "execution_count": 8,
   "metadata": {
    "collapsed": false
   },
   "outputs": [
    {
     "name": "stdout",
     "output_type": "stream",
     "text": [
      "<class 'pandas.core.frame.DataFrame'>\n",
      "Int64Index: 43009 entries, 0 to 4644\n",
      "Data columns (total 13 columns):\n",
      "BlackCount             43009 non-null float64\n",
      "HorzStrokesCount       43009 non-null float64\n",
      "IsInverted             43009 non-null int64\n",
      "IsVertical             43009 non-null int64\n",
      "MaxHorzStrokeLength    43009 non-null float64\n",
      "PunctuationQuality     43009 non-null float64\n",
      "TextQuality            43009 non-null float64\n",
      "VertStrokesCount       43009 non-null float64\n",
      "WhiteHolesCount        43009 non-null float64\n",
      "class_value            43009 non-null int64\n",
      "custom_1               43009 non-null float64\n",
      "custom_2               43009 non-null float64\n",
      "custom_3               43009 non-null float64\n",
      "dtypes: float64(10), int64(3)\n",
      "memory usage: 4.6 MB\n"
     ]
    }
   ],
   "source": [
    "df.info()"
   ]
  },
  {
   "cell_type": "code",
   "execution_count": 9,
   "metadata": {
    "collapsed": false
   },
   "outputs": [],
   "source": [
    "y = df.class_value.values\n",
    "X = df.drop(['class_value'], axis=1).values"
   ]
  },
  {
   "cell_type": "code",
   "execution_count": 15,
   "metadata": {
    "collapsed": false
   },
   "outputs": [],
   "source": [
    "from sklearn.svm import LinearSVC\n",
    "from sklearn.linear_model import LogisticRegression\n",
    "from sklearn.naive_bayes import GaussianNB\n",
    "from sklearn.pipeline import Pipeline\n",
    "from sklearn.ensemble import RandomForestClassifier\n",
    "from sklearn.ensemble import GradientBoostingClassifier\n",
    "\n",
    "from tools import ExtendedModel, ClfTester"
   ]
  },
  {
   "cell_type": "code",
   "execution_count": 16,
   "metadata": {
    "collapsed": true
   },
   "outputs": [],
   "source": [
    "N_SPLITS = 10\n",
    "SCORING = 'accuracy'"
   ]
  },
  {
   "cell_type": "code",
   "execution_count": 17,
   "metadata": {
    "collapsed": true
   },
   "outputs": [],
   "source": [
    "FEATURES = {\n",
    "    'Raw': ExtendedModel(None)\n",
    "}"
   ]
  },
  {
   "cell_type": "code",
   "execution_count": 18,
   "metadata": {
    "collapsed": false
   },
   "outputs": [],
   "source": [
    "CLASSIFIERS = {\n",
    "    'Random Forest Classifier': ExtendedModel(\n",
    "        RandomForestClassifier(n_jobs=-1),\n",
    "        {\n",
    "            'max_features': ('auto', 'sqrt', 'log2'),\n",
    "            'n_estimators': [i for i in range(10, 50, 5)]\n",
    "        }\n",
    "    ),\n",
    "    'Gradient Boosting Classifier': ExtendedModel(\n",
    "        GradientBoostingClassifier(),\n",
    "        {\n",
    "            'loss' : ('deviance', 'exponential'), \n",
    "            'warm_start': (True, False),\n",
    "            'learning_rate': [1, 0.1, 0.01, 0.001, 0.0001, 0.00001], \n",
    "            'n_estimators': [i for i in range(10, 50, 5)],\n",
    "            'max_features': ('auto', 'sqrt', 'log2')\n",
    "        }\n",
    "    ),\n",
    "    'Logistic Regression' : ExtendedModel( \n",
    "        LogisticRegression(), \n",
    "        {\n",
    "            'penalty': ('l1', 'l2'), \n",
    "            'C': [0.01, 0.1, 0.5, 1, 5, 10, 100, 200, 500, 1000, 10000, 15000, 20000, 100000]\n",
    "        }\n",
    "    ),\n",
    "    'Naive Bayes': ExtendedModel(\n",
    "        GaussianNB()\n",
    "    ),\n",
    "    'Linear SVM' : ExtendedModel(\n",
    "        LinearSVC(),\n",
    "        {\n",
    "            'C': [0.01, 0.1, 0.5, 1, 5, 10, 100, 200, 500, 1000, 10000, 15000, 20000, 100000]\n",
    "        }\n",
    "    ) \n",
    "}"
   ]
  },
  {
   "cell_type": "code",
   "execution_count": 19,
   "metadata": {
    "collapsed": false
   },
   "outputs": [
    {
     "name": "stdout",
     "output_type": "stream",
     "text": [
      "--- Best model ---\n",
      "Raw + Random Forest Classifier with score 0.889 and params:\n",
      "\tClassifier__max_features: log2\n",
      "\tClassifier__n_estimators: 40\n",
      "\n"
     ]
    }
   ],
   "source": [
    "clf_tester = ClfTester(FEATURES, CLASSIFIERS, SCORING, N_SPLITS)\n",
    "df_test_scores, df_best_estimators = clf_tester.test(X, y, show_time_log=False)"
   ]
  },
  {
   "cell_type": "code",
   "execution_count": 20,
   "metadata": {
    "collapsed": false
   },
   "outputs": [
    {
     "data": {
      "text/html": [
       "\n",
       "        <style  type=\"text/css\" >\n",
       "        \n",
       "        \n",
       "            #T_4067eb52_3bdf_11e7_9e89_5800e353746arow0_col0 {\n",
       "            \n",
       "                background-color:  yellow;\n",
       "            \n",
       "            }\n",
       "        \n",
       "        </style>\n",
       "\n",
       "        <table id=\"T_4067eb52_3bdf_11e7_9e89_5800e353746a\" None>\n",
       "        \n",
       "\n",
       "        <thead>\n",
       "            \n",
       "            <tr>\n",
       "                \n",
       "                \n",
       "                <th class=\"blank level0\" >\n",
       "                  \n",
       "                \n",
       "                \n",
       "                \n",
       "                <th class=\"col_heading level0 col0\" colspan=1>\n",
       "                  Random Forest Classifier\n",
       "                \n",
       "                \n",
       "                \n",
       "                <th class=\"col_heading level0 col1\" colspan=1>\n",
       "                  Gradient Boosting Classifier\n",
       "                \n",
       "                \n",
       "                \n",
       "                <th class=\"col_heading level0 col2\" colspan=1>\n",
       "                  Logistic Regression\n",
       "                \n",
       "                \n",
       "                \n",
       "                <th class=\"col_heading level0 col3\" colspan=1>\n",
       "                  Naive Bayes\n",
       "                \n",
       "                \n",
       "                \n",
       "                <th class=\"col_heading level0 col4\" colspan=1>\n",
       "                  Linear SVM\n",
       "                \n",
       "                \n",
       "            </tr>\n",
       "            \n",
       "        </thead>\n",
       "        <tbody>\n",
       "            \n",
       "            <tr>\n",
       "                \n",
       "                \n",
       "                <th id=\"T_4067eb52_3bdf_11e7_9e89_5800e353746a\"\n",
       "                 class=\"row_heading level0 row0\" rowspan=1>\n",
       "                    Raw\n",
       "                \n",
       "                \n",
       "                \n",
       "                <td id=\"T_4067eb52_3bdf_11e7_9e89_5800e353746arow0_col0\"\n",
       "                 class=\"data row0 col0\" >\n",
       "                    0.889046\n",
       "                \n",
       "                \n",
       "                \n",
       "                <td id=\"T_4067eb52_3bdf_11e7_9e89_5800e353746arow0_col1\"\n",
       "                 class=\"data row0 col1\" >\n",
       "                    0.883117\n",
       "                \n",
       "                \n",
       "                \n",
       "                <td id=\"T_4067eb52_3bdf_11e7_9e89_5800e353746arow0_col2\"\n",
       "                 class=\"data row0 col2\" >\n",
       "                    0.814643\n",
       "                \n",
       "                \n",
       "                \n",
       "                <td id=\"T_4067eb52_3bdf_11e7_9e89_5800e353746arow0_col3\"\n",
       "                 class=\"data row0 col3\" >\n",
       "                    0.752122\n",
       "                \n",
       "                \n",
       "                \n",
       "                <td id=\"T_4067eb52_3bdf_11e7_9e89_5800e353746arow0_col4\"\n",
       "                 class=\"data row0 col4\" >\n",
       "                    0.799554\n",
       "                \n",
       "                \n",
       "            </tr>\n",
       "            \n",
       "        </tbody>\n",
       "        </table>\n",
       "        "
      ],
      "text/plain": [
       "<pandas.formats.style.Styler at 0x173a7e78ac8>"
      ]
     },
     "execution_count": 20,
     "metadata": {},
     "output_type": "execute_result"
    }
   ],
   "source": [
    "df_test_scores.style.highlight_max(axis=None, subset=pd.IndexSlice[:, :])"
   ]
  }
 ],
 "metadata": {
  "kernelspec": {
   "display_name": "Python 3",
   "language": "python",
   "name": "python3"
  },
  "language_info": {
   "codemirror_mode": {
    "name": "ipython",
    "version": 3
   },
   "file_extension": ".py",
   "mimetype": "text/x-python",
   "name": "python",
   "nbconvert_exporter": "python",
   "pygments_lexer": "ipython3",
   "version": "3.6.0"
  }
 },
 "nbformat": 4,
 "nbformat_minor": 2
}
